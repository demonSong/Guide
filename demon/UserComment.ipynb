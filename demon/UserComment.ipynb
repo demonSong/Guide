{
 "cells": [
  {
   "cell_type": "code",
   "execution_count": 23,
   "metadata": {
    "collapsed": true,
    "deletable": true,
    "editable": true
   },
   "outputs": [],
   "source": [
    "# 导包\n",
    "import pandas as pd\n",
    "import matplotlib.pyplot as plt\n",
    "import numpy as np\n",
    "import seaborn as sns\n",
    "\n",
    "from collections import defaultdict"
   ]
  },
  {
   "cell_type": "code",
   "execution_count": 24,
   "metadata": {
    "collapsed": false,
    "deletable": true,
    "editable": true
   },
   "outputs": [
    {
     "data": {
      "text/html": [
       "<div>\n",
       "<table border=\"1\" class=\"dataframe\">\n",
       "  <thead>\n",
       "    <tr style=\"text-align: right;\">\n",
       "      <th></th>\n",
       "      <th>userid</th>\n",
       "      <th>orderid</th>\n",
       "      <th>rating</th>\n",
       "      <th>tags</th>\n",
       "      <th>commentsKeyWords</th>\n",
       "    </tr>\n",
       "  </thead>\n",
       "  <tbody>\n",
       "    <tr>\n",
       "      <th>0</th>\n",
       "      <td>100000000013</td>\n",
       "      <td>1000015</td>\n",
       "      <td>4.0</td>\n",
       "      <td>NaN</td>\n",
       "      <td>['很','简陋','太','随便']</td>\n",
       "    </tr>\n",
       "    <tr>\n",
       "      <th>1</th>\n",
       "      <td>100000000231</td>\n",
       "      <td>1000024</td>\n",
       "      <td>5.0</td>\n",
       "      <td>提前联系|耐心等候</td>\n",
       "      <td>['很','细心']</td>\n",
       "    </tr>\n",
       "    <tr>\n",
       "      <th>2</th>\n",
       "      <td>100000000471</td>\n",
       "      <td>1000038</td>\n",
       "      <td>5.0</td>\n",
       "      <td>NaN</td>\n",
       "      <td>NaN</td>\n",
       "    </tr>\n",
       "    <tr>\n",
       "      <th>3</th>\n",
       "      <td>100000000637</td>\n",
       "      <td>1000040</td>\n",
       "      <td>5.0</td>\n",
       "      <td>主动热情|提前联系|举牌迎接|主动搬运行李</td>\n",
       "      <td>NaN</td>\n",
       "    </tr>\n",
       "    <tr>\n",
       "      <th>4</th>\n",
       "      <td>100000000755</td>\n",
       "      <td>1000045</td>\n",
       "      <td>1.0</td>\n",
       "      <td>未举牌服务</td>\n",
       "      <td>NaN</td>\n",
       "    </tr>\n",
       "  </tbody>\n",
       "</table>\n",
       "</div>"
      ],
      "text/plain": [
       "         userid  orderid  rating                   tags     commentsKeyWords\n",
       "0  100000000013  1000015     4.0                    NaN  ['很','简陋','太','随便']\n",
       "1  100000000231  1000024     5.0              提前联系|耐心等候           ['很','细心']\n",
       "2  100000000471  1000038     5.0                    NaN                  NaN\n",
       "3  100000000637  1000040     5.0  主动热情|提前联系|举牌迎接|主动搬运行李                  NaN\n",
       "4  100000000755  1000045     1.0                  未举牌服务                  NaN"
      ]
     },
     "execution_count": 24,
     "metadata": {},
     "output_type": "execute_result"
    }
   ],
   "source": [
    "userCommentTrain = pd.read_csv('./data/userComment_train.csv')\n",
    "userCommentTrain.head()"
   ]
  },
  {
   "cell_type": "code",
   "execution_count": 25,
   "metadata": {
    "collapsed": false,
    "deletable": true,
    "editable": true
   },
   "outputs": [
    {
     "name": "stdout",
     "output_type": "stream",
     "text": [
      "<class 'pandas.core.frame.DataFrame'>\n",
      "RangeIndex: 9863 entries, 0 to 9862\n",
      "Data columns (total 5 columns):\n",
      "userid              9863 non-null int64\n",
      "orderid             9863 non-null int64\n",
      "rating              9863 non-null float64\n",
      "tags                6754 non-null object\n",
      "commentsKeyWords    4092 non-null object\n",
      "dtypes: float64(1), int64(2), object(2)\n",
      "memory usage: 385.4+ KB\n"
     ]
    }
   ],
   "source": [
    "userCommentTrain.info()"
   ]
  },
  {
   "cell_type": "code",
   "execution_count": 35,
   "metadata": {
    "collapsed": false,
    "deletable": true,
    "editable": true
   },
   "outputs": [
    {
     "name": "stdout",
     "output_type": "stream",
     "text": [
      "9863\n",
      "2474\n"
     ]
    }
   ],
   "source": [
    "def getUserRatingMap(fileName):\n",
    "    df = pd.read_csv(fileName)\n",
    "    datas = df[['userid', 'rating']].values\n",
    "    userRatingMap = {}\n",
    "    totalMap = {}\n",
    "    for data in datas:\n",
    "        user = str(int(data[0]))\n",
    "        rating = data[1]\n",
    "        if user not in userRatingMap:\n",
    "            userRatingMap[user] = 0\n",
    "            totalMap[user] = 0\n",
    "        userRatingMap[user] += rating\n",
    "        totalMap[user] += 1\n",
    "    for key in userRatingMap.keys():\n",
    "        if (totalMap[key] >= 2):\n",
    "            print(key)\n",
    "        userRatingMap[key] /= totalMap[key]\n",
    "    return userRatingMap\n",
    "# for train\n",
    "userRatingMap = getUserRatingMap('./data/userComment_train.csv')\n",
    "print(len(userRatingMap))\n",
    "\n",
    "# for test\n",
    "userRatingMapForTest = getUserRatingMap('./data/test/userComment_test.csv')\n",
    "print(len(userRatingMapForTest))"
   ]
  },
  {
   "cell_type": "code",
   "execution_count": 39,
   "metadata": {
    "collapsed": false,
    "deletable": true,
    "editable": true
   },
   "outputs": [
    {
     "name": "stdout",
     "output_type": "stream",
     "text": [
      "1661\n"
     ]
    }
   ],
   "source": [
    "def generateRating(userRatingMap, fileName):\n",
    "    df = pd.read_csv(fileName)\n",
    "    datas = df[['userid']].values\n",
    "    feature = []\n",
    "    cnt = 0\n",
    "    for data in datas:\n",
    "        user = str(data[0])\n",
    "        if user not in userRatingMap:\n",
    "            cnt += 1\n",
    "    print(cnt)\n",
    "generateRating(userRatingMap, './data/train.csv')"
   ]
  },
  {
   "cell_type": "code",
   "execution_count": null,
   "metadata": {
    "collapsed": true
   },
   "outputs": [],
   "source": [
    "p"
   ]
  }
 ],
 "metadata": {
  "kernelspec": {
   "display_name": "Python 3",
   "language": "python",
   "name": "python3"
  },
  "language_info": {
   "codemirror_mode": {
    "name": "ipython",
    "version": 3
   },
   "file_extension": ".py",
   "mimetype": "text/x-python",
   "name": "python",
   "nbconvert_exporter": "python",
   "pygments_lexer": "ipython3",
   "version": "3.5.2"
  }
 },
 "nbformat": 4,
 "nbformat_minor": 2
}
