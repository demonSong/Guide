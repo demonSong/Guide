{
 "cells": [
  {
   "cell_type": "code",
   "execution_count": 3,
   "metadata": {
    "collapsed": false,
    "deletable": true,
    "editable": true
   },
   "outputs": [],
   "source": [
    "# 导包\n",
    "import pandas as pd\n",
    "import matplotlib.pyplot as plt\n",
    "import numpy as np\n",
    "import seaborn as sns"
   ]
  },
  {
   "cell_type": "code",
   "execution_count": 4,
   "metadata": {
    "collapsed": false,
    "deletable": true,
    "editable": true
   },
   "outputs": [
    {
     "name": "stdout",
     "output_type": "stream",
     "text": [
      "         userid  orderid   orderTime  orderType city country continent\n",
      "0  100000000013  1000015  1481714516          0   柏林      德国        欧洲\n",
      "1  100000000013  1000014  1501959643          0  旧金山      美国       北美洲\n",
      "2  100000000393  1000033  1499440296          0   巴黎      法国        欧洲\n",
      "3  100000000459  1000036  1480601668          0   纽约      美国       北美洲\n",
      "4  100000000459  1000034  1479146723          0  巴厘岛   印度尼西亚        亚洲\n"
     ]
    }
   ],
   "source": [
    "df = pd.read_csv('./data/orderHistory_train.csv')\n",
    "print(df.head(5))"
   ]
  },
  {
   "cell_type": "code",
   "execution_count": 5,
   "metadata": {
    "collapsed": false,
    "deletable": true,
    "editable": true
   },
   "outputs": [
    {
     "name": "stdout",
     "output_type": "stream",
     "text": [
      "精品服务用户数：  1745\n",
      "总用户数：  10637 , 精品服务数占比：  0.1640500141017204\n"
     ]
    }
   ],
   "source": [
    "userAndType = df[['userid','orderType']].values\n",
    "\n",
    "userIdSetWithQualityService = set()  # 有精品服务的客户\n",
    "userIdSet = set()\n",
    "\n",
    "for line in userAndType:\n",
    "    if (line[1] == 1):\n",
    "        userIdSetWithQualityService.add(line[0])\n",
    "    userIdSet.add(line[0])\n",
    "\n",
    "    \n",
    "print('精品服务用户数： ' , len(userIdSetWithQualityService))\n",
    "print('总用户数： ', len(userIdSet), ', 精品服务数占比： ', len(userIdSetWithQualityService) / len(userIdSet))"
   ]
  },
  {
   "cell_type": "code",
   "execution_count": 6,
   "metadata": {
    "collapsed": false,
    "deletable": true,
    "editable": true
   },
   "outputs": [
    {
     "name": "stdout",
     "output_type": "stream",
     "text": [
      "         userid  orderType\n",
      "0  100000000013          0\n",
      "1  100000000111          0\n",
      "2  100000000127          0\n",
      "3  100000000231          0\n",
      "4  100000000379          0\n"
     ]
    }
   ],
   "source": [
    "# 预测订单\n",
    "orderFutureTrain = pd.read_csv('./data/orderFuture_train.csv')\n",
    "print(orderFutureTrain.head(5))"
   ]
  },
  {
   "cell_type": "code",
   "execution_count": 7,
   "metadata": {
    "collapsed": false,
    "deletable": true,
    "editable": true
   },
   "outputs": [
    {
     "name": "stdout",
     "output_type": "stream",
     "text": [
      "1745\n",
      "6625\n",
      "0.1643635100602873\n",
      "0.04329272831021907\n"
     ]
    }
   ],
   "source": [
    "# 历史交易中有精品交易的用户占比多少\n",
    "userAndType = orderFutureTrain[['userid','orderType']].values\n",
    "\n",
    "all = 0  # 总的future订单数\n",
    "count = 0 # 买过精品的人再买精品\n",
    "countQualityService = 0 # 总精品的数量\n",
    "\n",
    "for line in userAndType:\n",
    "    user = line[0]\n",
    "    type = line[1]\n",
    "    if (type == 1): countQualityService += 1\n",
    "    if (user in userIdSetWithQualityService and type == 1): count += 1\n",
    "    all += 1\n",
    "print(count)\n",
    "print(countQualityService)\n",
    "\n",
    "print(countQualityService / all) # 购买精品的占比也在16%左右\n",
    "print(count / all) \n",
    "\n",
    "# 买过精品交易的人， 一定在future会买精品"
   ]
  },
  {
   "cell_type": "code",
   "execution_count": 11,
   "metadata": {
    "collapsed": false,
    "deletable": true,
    "editable": true
   },
   "outputs": [
    {
     "name": "stdout",
     "output_type": "stream",
     "text": [
      "购买精品用户数：  6625\n",
      "10637\n",
      "         userid  total  ratio  label\n",
      "0  114740494336      3    0.0      1\n",
      "1  114803867648      1    0.0      0\n",
      "2  111840919554      2    0.0      0\n",
      "3  110305771527      1    1.0      1\n",
      "4  110834417672      1    0.0      0\n"
     ]
    }
   ],
   "source": [
    "# 参与精品服务的用户集合\n",
    "userWithQ = set() \n",
    "for line in userAndType: \n",
    "    if line[1] == 1: userWithQ.add(line[0])\n",
    "        \n",
    "print('购买精品用户数： ', len(userWithQ))\n",
    "\n",
    "# 用户ID 交易笔数 精品服务的占比 标签\n",
    "def totalTransCount(fileName, userWithQ = set()):\n",
    "    df = pd.read_csv(fileName)\n",
    "    user = df[['userid', 'orderType']].values\n",
    "    userSet = set()\n",
    "    \n",
    "    from collections import defaultdict\n",
    "    # 用户id 购买精品服务的历史数量\n",
    "    map1 = defaultdict(int)\n",
    "    # 用户id 未购买精品服务的历史数量\n",
    "    map2 = defaultdict(int)\n",
    "    for u in user: \n",
    "        type = u[1]\n",
    "        userSet.add(u[0])\n",
    "        if type == 1:\n",
    "            map1[u[0]] += 1\n",
    "        else:\n",
    "            map2[u[0]] += 1\n",
    "    \n",
    "    print(len(userSet))\n",
    "    totals = []\n",
    "    ratios = []\n",
    "    labels = []\n",
    "    userss = []\n",
    "    for u in userSet:\n",
    "        total = map1[u] + map2[u]\n",
    "        ratio = map1[u] / total\n",
    "        label = 0\n",
    "        if (u in userWithQ): label = 1\n",
    "        totals.append(total)\n",
    "        labels.append(label)\n",
    "        ratios.append(ratio)\n",
    "        userss.append(str(u))\n",
    "        \n",
    "    output = pd.DataFrame({\n",
    "        \"userid\" : userss,\n",
    "        \"total\" : totals,\n",
    "        \"ratio\" : ratios,\n",
    "        \"label\" : labels\n",
    "    }, columns = ['userid', 'total', 'ratio', 'label'])\n",
    "    return output\n",
    "    \n",
    "    \n",
    "train = totalTransCount('./data/orderHistory_train.csv', userWithQ)\n",
    "print(train.head(5))\n",
    "\n",
    "train.to_csv('./data/train.csv', index = False)"
   ]
  },
  {
   "cell_type": "code",
   "execution_count": 9,
   "metadata": {
    "collapsed": false,
    "deletable": true,
    "editable": true
   },
   "outputs": [
    {
     "name": "stderr",
     "output_type": "stream",
     "text": [
      "c:\\users\\administrator\\appdata\\local\\programs\\python\\python35\\lib\\site-packages\\ipykernel\\__main__.py:10: DataConversionWarning: A column-vector y was passed when a 1d array was expected. Please change the shape of y to (n_samples,), for example using ravel().\n"
     ]
    },
    {
     "data": {
      "text/plain": [
       "0.89348500517063079"
      ]
     },
     "execution_count": 9,
     "metadata": {},
     "output_type": "execute_result"
    }
   ],
   "source": [
    "# 模型训练\n",
    "from sklearn.linear_model import LogisticRegression\n",
    "from sklearn.svm import SVC, LinearSVC\n",
    "from sklearn.ensemble import RandomForestClassifier\n",
    "\n",
    "examples = train[['total', 'ratio']]\n",
    "labels   = train[['label']]\n",
    "\n",
    "cls = RandomForestClassifier(n_estimators = 100)\n",
    "cls.fit(examples, labels)\n",
    "\n",
    "cls.score(examples, labels)"
   ]
  },
  {
   "cell_type": "code",
   "execution_count": 12,
   "metadata": {
    "collapsed": false,
    "deletable": true,
    "editable": true
   },
   "outputs": [
    {
     "name": "stdout",
     "output_type": "stream",
     "text": [
      "2686\n"
     ]
    }
   ],
   "source": [
    "# 模型预测\n",
    "test = totalTransCount('./data/test/orderHistory_test.csv')\n",
    "test_data = test[['userid', 'total', 'ratio']].values\n",
    "test_userMap = {}\n",
    "\n",
    "for instance in test_data:\n",
    "    test_userMap[instance[0]] = (instance[1], instance[2])\n",
    "\n",
    "orderFutureTest = pd.read_csv('./data/test/orderFuture_test.csv')\n",
    "test_user2 = orderFutureTest['userid'].values\n",
    "\n",
    "userss = []\n",
    "totals = []\n",
    "ratios = []\n",
    "\n",
    "for u in test_user2:\n",
    "    userss.append(str(u))\n",
    "    if (str(u) in test_userMap):\n",
    "        value = test_userMap[str(u)]\n",
    "        totals.append(value[0])\n",
    "        ratios.append(value[1])\n",
    "    else:\n",
    "        totals.append(0)\n",
    "        ratios.append(0)\n",
    "        \n",
    "test_data_set = pd.DataFrame({\n",
    "        \"userid\" : userss,\n",
    "        \"total\" : totals,\n",
    "        \"ratio\" : ratios\n",
    "})\n",
    "\n",
    "test_data_set.to_csv('./data/test/test.csv', index = False, columns = ['userid', 'total', 'ratio'])\n",
    "\n",
    "\n",
    "x_test = test_data_set[['total', 'ratio']]\n",
    "predicts  = cls.predict(x_test)\n",
    "\n",
    "submission = pd.DataFrame({\n",
    "    \"orderType\" : predicts,\n",
    "    \"userid\" : test_data_set[\"userid\"]\n",
    "}, columns = ['userid', 'orderType'])\n",
    "\n",
    "submission.to_csv('test.csv',index = False)\n"
   ]
  },
  {
   "cell_type": "code",
   "execution_count": null,
   "metadata": {
    "collapsed": true,
    "deletable": true,
    "editable": true
   },
   "outputs": [],
   "source": []
  }
 ],
 "metadata": {
  "kernelspec": {
   "display_name": "Python 3",
   "language": "python",
   "name": "python3"
  },
  "language_info": {
   "codemirror_mode": {
    "name": "ipython",
    "version": 3
   },
   "file_extension": ".py",
   "mimetype": "text/x-python",
   "name": "python",
   "nbconvert_exporter": "python",
   "pygments_lexer": "ipython3",
   "version": "3.5.2"
  }
 },
 "nbformat": 4,
 "nbformat_minor": 2
}
