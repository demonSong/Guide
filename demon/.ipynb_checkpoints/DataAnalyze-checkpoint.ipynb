{
 "cells": [
  {
   "cell_type": "code",
   "execution_count": 1,
   "metadata": {
    "collapsed": false,
    "deletable": true,
    "editable": true
   },
   "outputs": [],
   "source": [
    "# 导包\n",
    "import pandas as pd\n",
    "import matplotlib.pyplot as plt\n",
    "import numpy as np\n",
    "import seaborn as sns"
   ]
  },
  {
   "cell_type": "code",
   "execution_count": 2,
   "metadata": {
    "collapsed": false,
    "deletable": true,
    "editable": true
   },
   "outputs": [
    {
     "name": "stdout",
     "output_type": "stream",
     "text": [
      "         userid  orderid   orderTime  orderType city country continent\n",
      "0  100000000013  1000015  1481714516          0   柏林      德国        欧洲\n",
      "1  100000000013  1000014  1501959643          0  旧金山      美国       北美洲\n",
      "2  100000000393  1000033  1499440296          0   巴黎      法国        欧洲\n",
      "3  100000000459  1000036  1480601668          0   纽约      美国       北美洲\n",
      "4  100000000459  1000034  1479146723          0  巴厘岛   印度尼西亚        亚洲\n"
     ]
    }
   ],
   "source": [
    "df = pd.read_csv('./data/orderHistory_train.csv')\n",
    "print(df.head(5))"
   ]
  },
  {
   "cell_type": "code",
   "execution_count": 3,
   "metadata": {
    "collapsed": false,
    "deletable": true,
    "editable": true
   },
   "outputs": [
    {
     "name": "stdout",
     "output_type": "stream",
     "text": [
      "精品服务用户数：  1745\n",
      "总用户数：  10637 , 精品服务数占比：  0.1640500141017204\n"
     ]
    }
   ],
   "source": [
    "userAndType = df[['userid','orderType']].values\n",
    "\n",
    "userIdSetWithQualityService = set()  # 有精品服务的客户\n",
    "userIdSet = set()\n",
    "\n",
    "for line in userAndType:\n",
    "    if (line[1] == 1):\n",
    "        userIdSetWithQualityService.add(line[0])\n",
    "    userIdSet.add(line[0])\n",
    "\n",
    "    \n",
    "print('精品服务用户数： ' , len(userIdSetWithQualityService))\n",
    "print('总用户数： ', len(userIdSet), ', 精品服务数占比： ', len(userIdSetWithQualityService) / len(userIdSet))"
   ]
  },
  {
   "cell_type": "code",
   "execution_count": 4,
   "metadata": {
    "collapsed": false,
    "deletable": true,
    "editable": true
   },
   "outputs": [
    {
     "name": "stdout",
     "output_type": "stream",
     "text": [
      "         userid  orderType\n",
      "0  100000000013          0\n",
      "1  100000000111          0\n",
      "2  100000000127          0\n",
      "3  100000000231          0\n",
      "4  100000000379          0\n"
     ]
    }
   ],
   "source": [
    "# 预测订单\n",
    "orderFutureTrain = pd.read_csv('./data/orderFuture_train.csv')\n",
    "print(orderFutureTrain.head(5))"
   ]
  },
  {
   "cell_type": "code",
   "execution_count": 13,
   "metadata": {
    "collapsed": false,
    "deletable": true,
    "editable": true
   },
   "outputs": [
    {
     "name": "stdout",
     "output_type": "stream",
     "text": [
      "40307\n",
      "1745\n",
      "6625\n",
      "0.1643635100602873\n",
      "0.04329272831021907\n"
     ]
    }
   ],
   "source": [
    "# 历史交易中有精品交易的用户占比多少\n",
    "userAndType = orderFutureTrain[['userid','orderType']].values\n",
    "\n",
    "all = 0  # 总的future订单数\n",
    "count = 0 # 买过精品的人再买精品\n",
    "countQualityService = 0 # 总精品的数量\n",
    "\n",
    "userSet = set()\n",
    "for line in userAndType:\n",
    "    user = line[0]\n",
    "    type = line[1]\n",
    "    if (type == 1): countQualityService += 1\n",
    "    if (user in userIdSetWithQualityService and type == 1): count += 1\n",
    "    userSet.add(user)\n",
    "    all += 1\n",
    "print(len(userSet))\n",
    "print(count)\n",
    "print(countQualityService)\n",
    "\n",
    "print(countQualityService / all) # 购买精品的占比也在16%左右\n",
    "print(count / all) \n",
    "\n",
    "# 买过精品交易的人， 一定在future会买精品"
   ]
  },
  {
   "cell_type": "code",
   "execution_count": 20,
   "metadata": {
    "collapsed": false,
    "deletable": true,
    "editable": true
   },
   "outputs": [
    {
     "name": "stdout",
     "output_type": "stream",
     "text": [
      "购买精品用户数：  6625\n",
      "10637\n"
     ]
    },
    {
     "ename": "KeyError",
     "evalue": "('userid', 'orderType')",
     "output_type": "error",
     "traceback": [
      "\u001b[0;31m---------------------------------------------------------------------------\u001b[0m",
      "\u001b[0;31mKeyError\u001b[0m                                  Traceback (most recent call last)",
      "\u001b[0;32mc:\\users\\administrator\\appdata\\local\\programs\\python\\python35\\lib\\site-packages\\pandas\\indexes\\base.py\u001b[0m in \u001b[0;36mget_loc\u001b[0;34m(self, key, method, tolerance)\u001b[0m\n\u001b[1;32m   2133\u001b[0m             \u001b[1;32mtry\u001b[0m\u001b[1;33m:\u001b[0m\u001b[1;33m\u001b[0m\u001b[0m\n\u001b[0;32m-> 2134\u001b[0;31m                 \u001b[1;32mreturn\u001b[0m \u001b[0mself\u001b[0m\u001b[1;33m.\u001b[0m\u001b[0m_engine\u001b[0m\u001b[1;33m.\u001b[0m\u001b[0mget_loc\u001b[0m\u001b[1;33m(\u001b[0m\u001b[0mkey\u001b[0m\u001b[1;33m)\u001b[0m\u001b[1;33m\u001b[0m\u001b[0m\n\u001b[0m\u001b[1;32m   2135\u001b[0m             \u001b[1;32mexcept\u001b[0m \u001b[0mKeyError\u001b[0m\u001b[1;33m:\u001b[0m\u001b[1;33m\u001b[0m\u001b[0m\n",
      "\u001b[0;32mpandas\\index.pyx\u001b[0m in \u001b[0;36mpandas.index.IndexEngine.get_loc (pandas\\index.c:4443)\u001b[0;34m()\u001b[0m\n",
      "\u001b[0;32mpandas\\index.pyx\u001b[0m in \u001b[0;36mpandas.index.IndexEngine.get_loc (pandas\\index.c:4289)\u001b[0;34m()\u001b[0m\n",
      "\u001b[0;32mpandas\\src\\hashtable_class_helper.pxi\u001b[0m in \u001b[0;36mpandas.hashtable.PyObjectHashTable.get_item (pandas\\hashtable.c:13733)\u001b[0;34m()\u001b[0m\n",
      "\u001b[0;32mpandas\\src\\hashtable_class_helper.pxi\u001b[0m in \u001b[0;36mpandas.hashtable.PyObjectHashTable.get_item (pandas\\hashtable.c:13687)\u001b[0;34m()\u001b[0m\n",
      "\u001b[0;31mKeyError\u001b[0m: ('userid', 'orderType')",
      "\nDuring handling of the above exception, another exception occurred:\n",
      "\u001b[0;31mKeyError\u001b[0m                                  Traceback (most recent call last)",
      "\u001b[0;32m<ipython-input-20-4d9088da497a>\u001b[0m in \u001b[0;36m<module>\u001b[0;34m()\u001b[0m\n\u001b[1;32m     58\u001b[0m \u001b[1;33m\u001b[0m\u001b[0m\n\u001b[1;32m     59\u001b[0m \u001b[0morderFutureTrain\u001b[0m \u001b[1;33m=\u001b[0m \u001b[0mpd\u001b[0m\u001b[1;33m.\u001b[0m\u001b[0mread_csv\u001b[0m\u001b[1;33m(\u001b[0m\u001b[1;34m'./data/orderFuture_train.csv'\u001b[0m\u001b[1;33m)\u001b[0m\u001b[1;33m\u001b[0m\u001b[0m\n\u001b[0;32m---> 60\u001b[0;31m \u001b[0mtrain_user2\u001b[0m \u001b[1;33m=\u001b[0m \u001b[0morderFutureTrain\u001b[0m\u001b[1;33m[\u001b[0m\u001b[1;34m'userid'\u001b[0m\u001b[1;33m,\u001b[0m \u001b[1;34m'orderType'\u001b[0m\u001b[1;33m]\u001b[0m\u001b[1;33m.\u001b[0m\u001b[0mvalues\u001b[0m\u001b[1;33m\u001b[0m\u001b[0m\n\u001b[0m\u001b[1;32m     61\u001b[0m \u001b[1;33m\u001b[0m\u001b[0m\n\u001b[1;32m     62\u001b[0m \u001b[0muserss\u001b[0m \u001b[1;33m=\u001b[0m \u001b[1;33m[\u001b[0m\u001b[1;33m]\u001b[0m\u001b[1;33m\u001b[0m\u001b[0m\n",
      "\u001b[0;32mc:\\users\\administrator\\appdata\\local\\programs\\python\\python35\\lib\\site-packages\\pandas\\core\\frame.py\u001b[0m in \u001b[0;36m__getitem__\u001b[0;34m(self, key)\u001b[0m\n\u001b[1;32m   2057\u001b[0m             \u001b[1;32mreturn\u001b[0m \u001b[0mself\u001b[0m\u001b[1;33m.\u001b[0m\u001b[0m_getitem_multilevel\u001b[0m\u001b[1;33m(\u001b[0m\u001b[0mkey\u001b[0m\u001b[1;33m)\u001b[0m\u001b[1;33m\u001b[0m\u001b[0m\n\u001b[1;32m   2058\u001b[0m         \u001b[1;32melse\u001b[0m\u001b[1;33m:\u001b[0m\u001b[1;33m\u001b[0m\u001b[0m\n\u001b[0;32m-> 2059\u001b[0;31m             \u001b[1;32mreturn\u001b[0m \u001b[0mself\u001b[0m\u001b[1;33m.\u001b[0m\u001b[0m_getitem_column\u001b[0m\u001b[1;33m(\u001b[0m\u001b[0mkey\u001b[0m\u001b[1;33m)\u001b[0m\u001b[1;33m\u001b[0m\u001b[0m\n\u001b[0m\u001b[1;32m   2060\u001b[0m \u001b[1;33m\u001b[0m\u001b[0m\n\u001b[1;32m   2061\u001b[0m     \u001b[1;32mdef\u001b[0m \u001b[0m_getitem_column\u001b[0m\u001b[1;33m(\u001b[0m\u001b[0mself\u001b[0m\u001b[1;33m,\u001b[0m \u001b[0mkey\u001b[0m\u001b[1;33m)\u001b[0m\u001b[1;33m:\u001b[0m\u001b[1;33m\u001b[0m\u001b[0m\n",
      "\u001b[0;32mc:\\users\\administrator\\appdata\\local\\programs\\python\\python35\\lib\\site-packages\\pandas\\core\\frame.py\u001b[0m in \u001b[0;36m_getitem_column\u001b[0;34m(self, key)\u001b[0m\n\u001b[1;32m   2064\u001b[0m         \u001b[1;31m# get column\u001b[0m\u001b[1;33m\u001b[0m\u001b[1;33m\u001b[0m\u001b[0m\n\u001b[1;32m   2065\u001b[0m         \u001b[1;32mif\u001b[0m \u001b[0mself\u001b[0m\u001b[1;33m.\u001b[0m\u001b[0mcolumns\u001b[0m\u001b[1;33m.\u001b[0m\u001b[0mis_unique\u001b[0m\u001b[1;33m:\u001b[0m\u001b[1;33m\u001b[0m\u001b[0m\n\u001b[0;32m-> 2066\u001b[0;31m             \u001b[1;32mreturn\u001b[0m \u001b[0mself\u001b[0m\u001b[1;33m.\u001b[0m\u001b[0m_get_item_cache\u001b[0m\u001b[1;33m(\u001b[0m\u001b[0mkey\u001b[0m\u001b[1;33m)\u001b[0m\u001b[1;33m\u001b[0m\u001b[0m\n\u001b[0m\u001b[1;32m   2067\u001b[0m \u001b[1;33m\u001b[0m\u001b[0m\n\u001b[1;32m   2068\u001b[0m         \u001b[1;31m# duplicate columns & possible reduce dimensionality\u001b[0m\u001b[1;33m\u001b[0m\u001b[1;33m\u001b[0m\u001b[0m\n",
      "\u001b[0;32mc:\\users\\administrator\\appdata\\local\\programs\\python\\python35\\lib\\site-packages\\pandas\\core\\generic.py\u001b[0m in \u001b[0;36m_get_item_cache\u001b[0;34m(self, item)\u001b[0m\n\u001b[1;32m   1384\u001b[0m         \u001b[0mres\u001b[0m \u001b[1;33m=\u001b[0m \u001b[0mcache\u001b[0m\u001b[1;33m.\u001b[0m\u001b[0mget\u001b[0m\u001b[1;33m(\u001b[0m\u001b[0mitem\u001b[0m\u001b[1;33m)\u001b[0m\u001b[1;33m\u001b[0m\u001b[0m\n\u001b[1;32m   1385\u001b[0m         \u001b[1;32mif\u001b[0m \u001b[0mres\u001b[0m \u001b[1;32mis\u001b[0m \u001b[1;32mNone\u001b[0m\u001b[1;33m:\u001b[0m\u001b[1;33m\u001b[0m\u001b[0m\n\u001b[0;32m-> 1386\u001b[0;31m             \u001b[0mvalues\u001b[0m \u001b[1;33m=\u001b[0m \u001b[0mself\u001b[0m\u001b[1;33m.\u001b[0m\u001b[0m_data\u001b[0m\u001b[1;33m.\u001b[0m\u001b[0mget\u001b[0m\u001b[1;33m(\u001b[0m\u001b[0mitem\u001b[0m\u001b[1;33m)\u001b[0m\u001b[1;33m\u001b[0m\u001b[0m\n\u001b[0m\u001b[1;32m   1387\u001b[0m             \u001b[0mres\u001b[0m \u001b[1;33m=\u001b[0m \u001b[0mself\u001b[0m\u001b[1;33m.\u001b[0m\u001b[0m_box_item_values\u001b[0m\u001b[1;33m(\u001b[0m\u001b[0mitem\u001b[0m\u001b[1;33m,\u001b[0m \u001b[0mvalues\u001b[0m\u001b[1;33m)\u001b[0m\u001b[1;33m\u001b[0m\u001b[0m\n\u001b[1;32m   1388\u001b[0m             \u001b[0mcache\u001b[0m\u001b[1;33m[\u001b[0m\u001b[0mitem\u001b[0m\u001b[1;33m]\u001b[0m \u001b[1;33m=\u001b[0m \u001b[0mres\u001b[0m\u001b[1;33m\u001b[0m\u001b[0m\n",
      "\u001b[0;32mc:\\users\\administrator\\appdata\\local\\programs\\python\\python35\\lib\\site-packages\\pandas\\core\\internals.py\u001b[0m in \u001b[0;36mget\u001b[0;34m(self, item, fastpath)\u001b[0m\n\u001b[1;32m   3539\u001b[0m \u001b[1;33m\u001b[0m\u001b[0m\n\u001b[1;32m   3540\u001b[0m             \u001b[1;32mif\u001b[0m \u001b[1;32mnot\u001b[0m \u001b[0misnull\u001b[0m\u001b[1;33m(\u001b[0m\u001b[0mitem\u001b[0m\u001b[1;33m)\u001b[0m\u001b[1;33m:\u001b[0m\u001b[1;33m\u001b[0m\u001b[0m\n\u001b[0;32m-> 3541\u001b[0;31m                 \u001b[0mloc\u001b[0m \u001b[1;33m=\u001b[0m \u001b[0mself\u001b[0m\u001b[1;33m.\u001b[0m\u001b[0mitems\u001b[0m\u001b[1;33m.\u001b[0m\u001b[0mget_loc\u001b[0m\u001b[1;33m(\u001b[0m\u001b[0mitem\u001b[0m\u001b[1;33m)\u001b[0m\u001b[1;33m\u001b[0m\u001b[0m\n\u001b[0m\u001b[1;32m   3542\u001b[0m             \u001b[1;32melse\u001b[0m\u001b[1;33m:\u001b[0m\u001b[1;33m\u001b[0m\u001b[0m\n\u001b[1;32m   3543\u001b[0m                 \u001b[0mindexer\u001b[0m \u001b[1;33m=\u001b[0m \u001b[0mnp\u001b[0m\u001b[1;33m.\u001b[0m\u001b[0marange\u001b[0m\u001b[1;33m(\u001b[0m\u001b[0mlen\u001b[0m\u001b[1;33m(\u001b[0m\u001b[0mself\u001b[0m\u001b[1;33m.\u001b[0m\u001b[0mitems\u001b[0m\u001b[1;33m)\u001b[0m\u001b[1;33m)\u001b[0m\u001b[1;33m[\u001b[0m\u001b[0misnull\u001b[0m\u001b[1;33m(\u001b[0m\u001b[0mself\u001b[0m\u001b[1;33m.\u001b[0m\u001b[0mitems\u001b[0m\u001b[1;33m)\u001b[0m\u001b[1;33m]\u001b[0m\u001b[1;33m\u001b[0m\u001b[0m\n",
      "\u001b[0;32mc:\\users\\administrator\\appdata\\local\\programs\\python\\python35\\lib\\site-packages\\pandas\\indexes\\base.py\u001b[0m in \u001b[0;36mget_loc\u001b[0;34m(self, key, method, tolerance)\u001b[0m\n\u001b[1;32m   2134\u001b[0m                 \u001b[1;32mreturn\u001b[0m \u001b[0mself\u001b[0m\u001b[1;33m.\u001b[0m\u001b[0m_engine\u001b[0m\u001b[1;33m.\u001b[0m\u001b[0mget_loc\u001b[0m\u001b[1;33m(\u001b[0m\u001b[0mkey\u001b[0m\u001b[1;33m)\u001b[0m\u001b[1;33m\u001b[0m\u001b[0m\n\u001b[1;32m   2135\u001b[0m             \u001b[1;32mexcept\u001b[0m \u001b[0mKeyError\u001b[0m\u001b[1;33m:\u001b[0m\u001b[1;33m\u001b[0m\u001b[0m\n\u001b[0;32m-> 2136\u001b[0;31m                 \u001b[1;32mreturn\u001b[0m \u001b[0mself\u001b[0m\u001b[1;33m.\u001b[0m\u001b[0m_engine\u001b[0m\u001b[1;33m.\u001b[0m\u001b[0mget_loc\u001b[0m\u001b[1;33m(\u001b[0m\u001b[0mself\u001b[0m\u001b[1;33m.\u001b[0m\u001b[0m_maybe_cast_indexer\u001b[0m\u001b[1;33m(\u001b[0m\u001b[0mkey\u001b[0m\u001b[1;33m)\u001b[0m\u001b[1;33m)\u001b[0m\u001b[1;33m\u001b[0m\u001b[0m\n\u001b[0m\u001b[1;32m   2137\u001b[0m \u001b[1;33m\u001b[0m\u001b[0m\n\u001b[1;32m   2138\u001b[0m         \u001b[0mindexer\u001b[0m \u001b[1;33m=\u001b[0m \u001b[0mself\u001b[0m\u001b[1;33m.\u001b[0m\u001b[0mget_indexer\u001b[0m\u001b[1;33m(\u001b[0m\u001b[1;33m[\u001b[0m\u001b[0mkey\u001b[0m\u001b[1;33m]\u001b[0m\u001b[1;33m,\u001b[0m \u001b[0mmethod\u001b[0m\u001b[1;33m=\u001b[0m\u001b[0mmethod\u001b[0m\u001b[1;33m,\u001b[0m \u001b[0mtolerance\u001b[0m\u001b[1;33m=\u001b[0m\u001b[0mtolerance\u001b[0m\u001b[1;33m)\u001b[0m\u001b[1;33m\u001b[0m\u001b[0m\n",
      "\u001b[0;32mpandas\\index.pyx\u001b[0m in \u001b[0;36mpandas.index.IndexEngine.get_loc (pandas\\index.c:4443)\u001b[0;34m()\u001b[0m\n",
      "\u001b[0;32mpandas\\index.pyx\u001b[0m in \u001b[0;36mpandas.index.IndexEngine.get_loc (pandas\\index.c:4289)\u001b[0;34m()\u001b[0m\n",
      "\u001b[0;32mpandas\\src\\hashtable_class_helper.pxi\u001b[0m in \u001b[0;36mpandas.hashtable.PyObjectHashTable.get_item (pandas\\hashtable.c:13733)\u001b[0;34m()\u001b[0m\n",
      "\u001b[0;32mpandas\\src\\hashtable_class_helper.pxi\u001b[0m in \u001b[0;36mpandas.hashtable.PyObjectHashTable.get_item (pandas\\hashtable.c:13687)\u001b[0;34m()\u001b[0m\n",
      "\u001b[0;31mKeyError\u001b[0m: ('userid', 'orderType')"
     ]
    }
   ],
   "source": [
    "# 参与精品服务的用户集合\n",
    "userWithQ = set() \n",
    "for line in userAndType: \n",
    "    if line[1] == 1: userWithQ.add(line[0])\n",
    "        \n",
    "print('购买精品用户数： ', len(userWithQ))\n",
    "\n",
    "# 用户ID 交易笔数 精品服务的占比 标签\n",
    "def totalTransCount(fileName, userWithQ = set()):\n",
    "    df = pd.read_csv(fileName)\n",
    "    user = df[['userid', 'orderType']].values\n",
    "    userSet = set()\n",
    "    \n",
    "    from collections import defaultdict\n",
    "    # 用户id 购买精品服务的历史数量\n",
    "    map1 = defaultdict(int)\n",
    "    # 用户id 未购买精品服务的历史数量\n",
    "    map2 = defaultdict(int)\n",
    "    for u in user: \n",
    "        type = u[1]\n",
    "        userSet.add(u[0])\n",
    "        if type == 1:\n",
    "            map1[u[0]] += 1\n",
    "        else:\n",
    "            map2[u[0]] += 1\n",
    "    \n",
    "    print(len(userSet))\n",
    "    totals = []\n",
    "    ratios = []\n",
    "    labels = []\n",
    "    userss = []\n",
    "    for u in userSet:\n",
    "        total = map1[u] + map2[u]\n",
    "        ratio = map1[u] / total\n",
    "        label = 0\n",
    "        if (u in userWithQ): label = 1\n",
    "        totals.append(total)\n",
    "        labels.append(label)\n",
    "        ratios.append(ratio)\n",
    "        userss.append(str(u))\n",
    "        \n",
    "    output = pd.DataFrame({\n",
    "        \"userid\" : userss,\n",
    "        \"total\" : totals,\n",
    "        \"ratio\" : ratios,\n",
    "        \"label\" : labels\n",
    "    }, columns = ['userid', 'total', 'ratio', 'label'])\n",
    "    return output\n",
    "    \n",
    "    \n",
    "train = totalTransCount('./data/orderHistory_train.csv', userWithQ)\n",
    "train.head()\n",
    "train_data = train[['userid', 'total', 'ratio', 'label']].values\n",
    "train_userMap = {}\n",
    "\n",
    "for instance in train_data:\n",
    "    train_userMap[instance[0]] = (instance[1], instance[2])\n",
    "\n",
    "orderFutureTrain = pd.read_csv('./data/orderFuture_train.csv')\n",
    "train_user2 = orderFutureTrain['userid', 'orderType'].values\n",
    "\n",
    "userss = []\n",
    "totals = []\n",
    "ratios = []\n",
    "labels = []\n",
    "\n",
    "for u in train_user2:\n",
    "    user  = str(u[0])\n",
    "    label = str(int(u[1]))\n",
    "    print(user)\n",
    "    userss.append(user)\n",
    "    if (user in train_userMap):\n",
    "        value = train_userMap[user]\n",
    "        totals.append(value[0])\n",
    "        ratios.append(value[1])\n",
    "    else:\n",
    "        totals.append(0)\n",
    "        ratios.append(0)\n",
    "    labels.append()\n",
    "        \n",
    "train_data_set = pd.DataFrame({\n",
    "        \"userid\" : userss,\n",
    "        \"total\" : totals,\n",
    "        \"ratio\" : ratios,\n",
    "        \"label\" : labels\n",
    "})\n",
    "\n",
    "train_data_set.head()\n",
    "\n",
    "\n",
    "# test_data_set.to_csv('./data/test/test.csv', index = False, columns = ['userid', 'total', 'ratio'])\n",
    "\n",
    "\n",
    "# print(train.head(5))\n",
    "# print(train.info())\n",
    "# train.to_csv('./data/train.csv', index = False)"
   ]
  },
  {
   "cell_type": "code",
   "execution_count": 9,
   "metadata": {
    "collapsed": false,
    "deletable": true,
    "editable": true
   },
   "outputs": [
    {
     "name": "stderr",
     "output_type": "stream",
     "text": [
      "c:\\users\\administrator\\appdata\\local\\programs\\python\\python35\\lib\\site-packages\\ipykernel\\__main__.py:10: DataConversionWarning: A column-vector y was passed when a 1d array was expected. Please change the shape of y to (n_samples,), for example using ravel().\n"
     ]
    },
    {
     "data": {
      "text/plain": [
       "0.89348500517063079"
      ]
     },
     "execution_count": 9,
     "metadata": {},
     "output_type": "execute_result"
    }
   ],
   "source": [
    "# 模型训练\n",
    "from sklearn.linear_model import LogisticRegression\n",
    "from sklearn.svm import SVC, LinearSVC\n",
    "from sklearn.ensemble import RandomForestClassifier\n",
    "\n",
    "examples = train[['total', 'ratio']]\n",
    "labels   = train[['label']]\n",
    "\n",
    "cls = RandomForestClassifier(n_estimators = 100)\n",
    "cls.fit(examples, labels)\n",
    "\n",
    "cls.score(examples, labels)"
   ]
  },
  {
   "cell_type": "code",
   "execution_count": 16,
   "metadata": {
    "collapsed": false,
    "deletable": true,
    "editable": true
   },
   "outputs": [
    {
     "name": "stdout",
     "output_type": "stream",
     "text": [
      "2686\n"
     ]
    }
   ],
   "source": [
    "# 模型预测\n",
    "test = totalTransCount('./data/test/orderHistory_test.csv')\n",
    "test_data = test[['userid', 'total', 'ratio']].values\n",
    "test_userMap = {}\n",
    "\n",
    "for instance in test_data:\n",
    "    test_userMap[instance[0]] = (instance[1], instance[2])\n",
    "\n",
    "orderFutureTest = pd.read_csv('./data/test/orderFuture_test.csv')\n",
    "test_user2 = orderFutureTest['userid'].values\n",
    "\n",
    "userss = []\n",
    "totals = []\n",
    "ratios = []\n",
    "\n",
    "for u in test_user2:\n",
    "    userss.append(str(u))\n",
    "    if (str(u) in test_userMap):\n",
    "        value = test_userMap[str(u)]\n",
    "        totals.append(value[0])\n",
    "        ratios.append(value[1])\n",
    "    else:\n",
    "        totals.append(0)\n",
    "        ratios.append(0)\n",
    "        \n",
    "test_data_set = pd.DataFrame({\n",
    "        \"userid\" : userss,\n",
    "        \"total\" : totals,\n",
    "        \"ratio\" : ratios\n",
    "})\n",
    "\n",
    "test_data_set.to_csv('./data/test/test.csv', index = False, columns = ['userid', 'total', 'ratio'])\n",
    "\n",
    "\n",
    "x_test = test_data_set[['total', 'ratio']]\n",
    "predicts  = cls.predict(x_test)\n",
    "\n",
    "submission = pd.DataFrame({\n",
    "    \"orderType\" : predicts,\n",
    "    \"userid\" : test_data_set[\"userid\"]\n",
    "}, columns = ['userid', 'orderType'])\n",
    "\n",
    "submission.to_csv('test.csv',index = False)\n"
   ]
  },
  {
   "cell_type": "code",
   "execution_count": null,
   "metadata": {
    "collapsed": true,
    "deletable": true,
    "editable": true
   },
   "outputs": [],
   "source": []
  }
 ],
 "metadata": {
  "kernelspec": {
   "display_name": "Python 3",
   "language": "python",
   "name": "python3"
  },
  "language_info": {
   "codemirror_mode": {
    "name": "ipython",
    "version": 3
   },
   "file_extension": ".py",
   "mimetype": "text/x-python",
   "name": "python",
   "nbconvert_exporter": "python",
   "pygments_lexer": "ipython3",
   "version": "3.5.2"
  }
 },
 "nbformat": 4,
 "nbformat_minor": 2
}
