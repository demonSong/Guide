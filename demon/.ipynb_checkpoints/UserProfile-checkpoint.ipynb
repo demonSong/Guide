{
 "cells": [
  {
   "cell_type": "code",
   "execution_count": 1,
   "metadata": {
    "collapsed": false,
    "deletable": true,
    "editable": true
   },
   "outputs": [],
   "source": [
    "# 导包\n",
    "import pandas as pd\n",
    "import matplotlib.pyplot as plt\n",
    "import numpy as np\n",
    "import seaborn as sns"
   ]
  },
  {
   "cell_type": "code",
   "execution_count": 2,
   "metadata": {
    "collapsed": true,
    "deletable": true,
    "editable": true
   },
   "outputs": [],
   "source": [
    "# 求出训练集中购买精品的用户集合\n",
    "def qualityUser():\n",
    "    orderFutureTrain = pd.read_csv('./data/orderFuture_train.csv')\n",
    "    userAndType = orderFutureTrain[['userid','orderType']].values\n",
    "    userWithQ = set() \n",
    "    for line in userAndType: \n",
    "        if line[1] == 1: userWithQ.add(str(line[0]))\n",
    "    \n",
    "    return userWithQ"
   ]
  },
  {
   "cell_type": "code",
   "execution_count": 3,
   "metadata": {
    "collapsed": false,
    "deletable": true,
    "editable": true
   },
   "outputs": [
    {
     "name": "stdout",
     "output_type": "stream",
     "text": [
      "         userid gender province  age\n",
      "0  100000000013      男      NaN  60后\n",
      "1  100000000111    NaN       上海  NaN\n",
      "2  100000000127    NaN       上海  NaN\n",
      "3  100000000231      男       北京  70后\n",
      "4  100000000379      男       北京  NaN\n",
      "-----------------------------------------------------\n",
      "<class 'pandas.core.frame.DataFrame'>\n",
      "RangeIndex: 40307 entries, 0 to 40306\n",
      "Data columns (total 4 columns):\n",
      "userid      40307 non-null int64\n",
      "gender      15760 non-null object\n",
      "province    36412 non-null object\n",
      "age         4742 non-null object\n",
      "dtypes: int64(1), object(3)\n",
      "memory usage: 1.2+ MB\n"
     ]
    }
   ],
   "source": [
    "userProfileTrain = pd.read_csv('./data/userProfile_train.csv')\n",
    "print(userProfileTrain.head(5))\n",
    "\n",
    "print('-----------------------------------------------------')\n",
    "\n",
    "# 查看空值情况\n",
    "userProfileTrain.info()"
   ]
  },
  {
   "cell_type": "code",
   "execution_count": 4,
   "metadata": {
    "collapsed": false,
    "deletable": true,
    "editable": true
   },
   "outputs": [
    {
     "name": "stdout",
     "output_type": "stream",
     "text": [
      "6625\n"
     ]
    }
   ],
   "source": [
    "# 得到训练集中的精品用户\n",
    "userWithQ = qualityUser()\n",
    "print(len(userWithQ))"
   ]
  },
  {
   "cell_type": "code",
   "execution_count": 5,
   "metadata": {
    "collapsed": false,
    "deletable": true,
    "editable": true
   },
   "outputs": [
    {
     "name": "stdout",
     "output_type": "stream",
     "text": [
      "40307\n",
      "{'安徽', 'nan', '湖北', '上海', '云南', '河北', '山东', '青海', '海南', '江西', '西藏', '吉林', '宁夏', '北京', '天津', '黑龙江', '江苏', '广西', '内蒙古', '陕西', '新疆', '广东', '福建', '贵州', '浙江', '重庆', '辽宁', '湖南', '四川', '山西', '河南', '甘肃'}\n"
     ]
    }
   ],
   "source": [
    "# 得到表中的用户集合\n",
    "def getAllUsers(fileName):\n",
    "    df = pd.read_csv(fileName)\n",
    "    user = df[['userid']].values\n",
    "    userSet = set()\n",
    "    for u in user:\n",
    "        userSet.add(str(u[0]))\n",
    "    return userSet\n",
    "\n",
    "userSet = getAllUsers('./data/userProfile_train.csv')\n",
    "print(len(userSet))\n",
    "\n",
    "# 离散化出发地\n",
    "def getLocMap(fileName = './data/userProfile_train.csv'):\n",
    "    df = pd.read_csv(fileName)\n",
    "    loc = df[['province']].values\n",
    "    locMap = {}\n",
    "    cnt = 0\n",
    "    for l in loc:\n",
    "        add = str(l[0])\n",
    "        if add not in locMap:\n",
    "            locMap[add] = cnt\n",
    "            cnt += 1\n",
    "    return locMap\n",
    "\n",
    "locMap = getLocMap()\n",
    "locSet = set([key for key in locMap.keys()]) # 得到locMap的key集合\n",
    "print(locSet)"
   ]
  },
  {
   "cell_type": "code",
   "execution_count": 6,
   "metadata": {
    "collapsed": false,
    "deletable": true,
    "editable": true
   },
   "outputs": [
    {
     "name": "stdout",
     "output_type": "stream",
     "text": [
      "         userid  label gender  age  province\n",
      "0  100000000013      0   male   60         0\n",
      "1  100000000111      0    nan  nan         1\n",
      "2  100000000127      0    nan  nan         1\n",
      "3  100000000231      0   male   70         2\n",
      "4  100000000379      0   male  nan         2\n"
     ]
    }
   ],
   "source": [
    "# UserProfile 加入标签\n",
    "def generateLabel(userWithQ, fileName = './data/userProfile_train.csv'):\n",
    "    df = pd.read_csv(fileName)\n",
    "    user = df[['userid']].values\n",
    "    label = []\n",
    "    for u in user:\n",
    "        u = str(u[0])\n",
    "        if (u not in userWithQ): label.append(0)\n",
    "        else: label.append(1)\n",
    "    \n",
    "    ndf = pd.DataFrame({\n",
    "        \"label\" : label\n",
    "    })\n",
    "    return ndf\n",
    "\n",
    "def generateProvince(locMap, fileName = './data/userProfile_train.csv'):\n",
    "    df = pd.read_csv(fileName)\n",
    "    provinces = df[['province']].values\n",
    "    province = []\n",
    "    for g in provinces:\n",
    "        g = str(g[0])\n",
    "        province.append(locMap[g])    \n",
    "    ndf = pd.DataFrame({\n",
    "        \"province\" : province\n",
    "    })\n",
    "    return ndf\n",
    "\n",
    "def generateGender(fileName = './data/userProfile_train.csv'):\n",
    "    df = pd.read_csv(fileName)\n",
    "    genders = df[['gender']].values\n",
    "    gender = []\n",
    "    for g in genders:\n",
    "        g = str(g[0])\n",
    "        if g == '男':\n",
    "            gender.append('male')\n",
    "        elif g == '女':\n",
    "            gender.append('female')\n",
    "        else:\n",
    "            gender.append('nan')\n",
    "        \n",
    "    ndf = pd.DataFrame({\n",
    "        \"gender\" : gender\n",
    "    })\n",
    "    return ndf\n",
    "\n",
    "def generateAge(fileName = './data/userProfile_train.csv'):\n",
    "    df = pd.read_csv(fileName)\n",
    "    ages = df[['age']].values\n",
    "    age = []\n",
    "    for g in ages:\n",
    "        g = str(g[0])\n",
    "        if g != 'nan':\n",
    "            age.append(g[0:2])\n",
    "        else:\n",
    "            age.append('nan')\n",
    "    ndf = pd.DataFrame({\n",
    "        \"age\" : age\n",
    "    })\n",
    "    return ndf\n",
    "\n",
    "ndf      = generateLabel(userWithQ)\n",
    "gender   = generateGender()\n",
    "age      = generateAge()\n",
    "province = generateProvince(locMap)\n",
    "\n",
    "userProfileTrain = pd.read_csv('./data/userProfile_train_label.csv')\n",
    "userProfileTrainWithLabel = userProfileTrain.drop(['gender', 'age', 'province', 'label'], axis = 1).join(ndf['label']).join(gender).join(age).join(province)\n",
    "print(userProfileTrainWithLabel.head(5))\n",
    "# 本地化\n",
    "userProfileTrainWithLabel.to_csv('./data/userProfile_train_label.csv',index = False)\n",
    "\n"
   ]
  },
  {
   "cell_type": "code",
   "execution_count": 22,
   "metadata": {
    "collapsed": false,
    "deletable": true,
    "editable": true
   },
   "outputs": [
    {
     "data": {
      "image/png": "[encoded data removed]",
      "text/plain": [
       "<matplotlib.figure.Figure at 0x1bdb95b7e80>"
      ]
     },
     "metadata": {},
     "output_type": "display_data"
    },
    {
     "data": {
      "image/png": "[encoded data removed]",
      "text/plain": [
       "<matplotlib.figure.Figure at 0x1bdb969c5f8>"
      ]
     },
     "metadata": {},
     "output_type": "display_data"
    },
    {
     "data": {
      "image/png": "[encoded data removed]",
      "text/plain": [
       "<matplotlib.figure.Figure at 0x1bdba119400>"
      ]
     },
     "metadata": {},
     "output_type": "display_data"
    }
   ],
   "source": [
    "fig,(axis1,axis2) = plt.subplots(1,2,figsize = (15,5))\n",
    "sns.countplot(x = 'province',data = userProfileTrainWithLabel, ax = axis1) # 统计地点数\n",
    "sns.countplot(x = 'label',hue = \"province\",data = userProfileTrainWithLabel,order =[1,0],ax = axis2)\n",
    "plt.show()\n",
    "\n",
    "# 统计性别和精品的关系\n",
    "fig,(axis1,axis2) = plt.subplots(1,2,figsize = (15,5))\n",
    "sns.countplot(x = 'gender',data = userProfileTrainWithLabel, ax = axis1) # 统计地点数\n",
    "sns.countplot(x = 'label',hue = \"gender\",data = userProfileTrainWithLabel,order =[1,0],ax = axis2)\n",
    "plt.show()\n",
    "\n",
    "\n",
    "# 统计年龄和精品的关系\n",
    "fig,(axis1,axis2) = plt.subplots(1,2,figsize = (15,5))\n",
    "sns.countplot(x = 'age',data = userProfileTrainWithLabel, ax = axis1) # 统计地点数\n",
    "sns.countplot(x = 'label',hue = \"age\",data = userProfileTrainWithLabel,order =[1,0],ax = axis2)\n",
    "plt.show()\n"
   ]
  },
  {
   "cell_type": "code",
   "execution_count": 7,
   "metadata": {
    "collapsed": false,
    "deletable": true,
    "editable": true
   },
   "outputs": [
    {
     "name": "stdout",
     "output_type": "stream",
     "text": [
      "['内蒙古:79', '江苏:2813', '广西:288', '青海:11', '安徽:206', 'nan:3895', '湖北:741', '上海:9760', '云南:242', '河北:203', '陕西:323', '广东:4784', '山东:510', '贵州:143', '河南:228', '新疆:69', '浙江:2447', '重庆:617', '海南:61', '江西:214', '西藏:4', '吉林:143', '辽宁:725', '湖南:334', '四川:1310', '宁夏:30', '北京:8301', '山西:108', '福建:693', '天津:722', '黑龙江:234', '甘肃:69']\n"
     ]
    }
   ],
   "source": [
    "from collections import defaultdict\n",
    "# 特征构造\n",
    "def statsWithLoc(userWithQ, fileName = './data/userProfile_train.csv'):\n",
    "    df = pd.read_csv(fileName)\n",
    "    data = df[['userid', 'province']].values\n",
    "    qualityMap   = defaultdict(int) \n",
    "    nQualityMap  = defaultdict(int)\n",
    "    for line in data:\n",
    "        userid = str(line[0])\n",
    "        province = str(line[1])\n",
    "        if userid in userWithQ:\n",
    "            qualityMap[province] += 1\n",
    "        else:\n",
    "            nQualityMap[province] += 1\n",
    "    return qualityMap, nQualityMap\n",
    "\n",
    "qualityMap, nQualityMap= statsWithLoc(userWithQ)\n",
    "print([key + ':' + str(qualityMap[key] + nQualityMap[key]) for key in qualityMap.keys()])\n",
    "\n",
    "# 地点转概率\n",
    "def getUserLocFeatureMap(qualityMap, nQualityMap, fileName = './data/userProfile_train.csv'):\n",
    "    df = pd.read_csv(fileName)\n",
    "    datas = df[['userid', 'province']].values\n",
    "    locFeatureMap = {}\n",
    "    for data in datas:\n",
    "        userid   = str(data[0])\n",
    "        province = str(data[1])\n",
    "        ratio    = qualityMap[province] / (qualityMap[province] + nQualityMap[province])\n",
    "        locFeatureMap[userid] = ratio\n",
    "    return locFeatureMap\n",
    "# for train\n",
    "locFeatureMap = getUserLocFeatureMap(qualityMap, nQualityMap)\n",
    "\n",
    "# for test\n",
    "locFeatureMapForTest = getUserLocFeatureMap(qualityMap, nQualityMap, './data/test/userProfile_test.csv')"
   ]
  },
  {
   "cell_type": "code",
   "execution_count": 8,
   "metadata": {
    "collapsed": false,
    "deletable": true,
    "editable": true
   },
   "outputs": [
    {
     "name": "stdout",
     "output_type": "stream",
     "text": [
      "<class 'pandas.core.frame.DataFrame'>\n",
      "RangeIndex: 10637 entries, 0 to 10636\n",
      "Columns: 175 entries, userid to timeTrans9\n",
      "dtypes: float64(171), int64(4)\n",
      "memory usage: 14.2 MB\n"
     ]
    }
   ],
   "source": [
    "# 更新train特征集合\n",
    "train = pd.read_csv('./data/train.csv')\n",
    "train.info()\n",
    "train.head(5)\n",
    "\n",
    "def generateLocFeature(locFeatureMap, fileName = './data/train.csv'):\n",
    "    df = pd.read_csv(fileName)\n",
    "    userList = df['userid'].values\n",
    "    locFeature = []\n",
    "    for user in userList:\n",
    "        user = str(user)\n",
    "        locFeature.append(locFeatureMap[user])\n",
    "    ndf = pd.DataFrame({\n",
    "        'locFeature' : locFeature\n",
    "    })\n",
    "    return ndf\n",
    "\n",
    "locFeature = generateLocFeature(locFeatureMap)\n",
    "locFeature.head(5)\n",
    "# 存在locFeature会报错\n",
    "train = train.join(locFeature)\n",
    "train.head(5)\n",
    "train.to_csv('./data/train.csv', index = False)"
   ]
  },
  {
   "cell_type": "code",
   "execution_count": 186,
   "metadata": {
    "collapsed": false,
    "deletable": true,
    "editable": true
   },
   "outputs": [],
   "source": [
    "# 生成最新的测试集\n",
    "def generateLocFeatureForTest(locFeatureMapForTest, fileName = './data/test/test.csv'):\n",
    "    df = pd.read_csv(fileName)\n",
    "    userList = df['userid'].values\n",
    "    locFeature = []\n",
    "    for user in userList:\n",
    "        user = str(user)\n",
    "        locFeature.append(locFeatureMapForTest[user])\n",
    "    ndf = pd.DataFrame({\n",
    "        'locFeature' : locFeature\n",
    "    })\n",
    "    return ndf\n",
    "\n",
    "locFeatureForTest = generateLocFeatureForTest(locFeatureMapForTest, './data/test/test.csv')\n",
    "locFeatureForTest.head(5)\n",
    "# 存在locFeature会报错\n",
    "test = pd.read_csv('./data/test/test.csv')\n",
    "test = test.join(locFeatureForTest)\n",
    "test.head(5)\n",
    "test.to_csv('./data/test/test.csv', index = False, columns = ['userid', 'total', 'ratio', 'locFeature'])"
   ]
  },
  {
   "cell_type": "code",
   "execution_count": 11,
   "metadata": {
    "collapsed": false,
    "deletable": true,
    "editable": true
   },
   "outputs": [
    {
     "name": "stdout",
     "output_type": "stream",
     "text": [
      "defaultdict(<class 'int'>, {'22': 23, '8': 162, '20': 3, '29': 13, '23': 26, '16': 73, '15': 104, '31': 1, '19': 45, '14': 124, '9': 42, '27': 4, '3': 32, '1': 1781, '30': 1, '18': 22, '11': 25, '6': 46, '25': 7, '12': 417, '28': 14, '2': 1589, '13': 71, '0': 580, '26': 37, '4': 765, '10': 37, '7': 337, '17': 87, '21': 36, '5': 105, '24': 16})\n",
      "[0.13771965672251738, 0.14890885750962773, 0.14890885750962773, 0.18247950819672132, 0.15990802675585283, 0.12366412213740458, 0.18247950819672132, 0.19142272015419828, 0.18247950819672132, 0.15007215007215008]\n",
      "[0.15990802675585283, 0.15990802675585283, 0.19142272015419828, 0.13771965672251738, 0.14482758620689656, 0.18226600985221675, 0.13771965672251738, 0.15990802675585283, 0.06557377049180328, 0.18247950819672132]\n"
     ]
    }
   ],
   "source": [
    "from collections import defaultdict\n",
    "# 特征构造\n",
    "def statsWithFeatrueName(userWithQ, featureName, fileName):\n",
    "    df = pd.read_csv(fileName)\n",
    "    #columns = ['userid']\n",
    "    #columns.append(featureName)\n",
    "    data = df[['userid', featureName]].values\n",
    "    qualityMap   = defaultdict(int) \n",
    "    nQualityMap  = defaultdict(int)\n",
    "    for line in data:\n",
    "        userid = str(int(line[0]))\n",
    "        stats = str(line[1])\n",
    "        if featureName == 'age':\n",
    "            if stats != 'nan': stats = stats[0:2]\n",
    "        if userid in userWithQ:\n",
    "            qualityMap[stats] += 1\n",
    "        else:\n",
    "            nQualityMap[stats] += 1\n",
    "    return qualityMap, nQualityMap\n",
    "\n",
    "# 地点转概率\n",
    "def getUserFeatureMap(qualityMap, nQualityMap, featureName, fileName):\n",
    "    df = pd.read_csv(fileName)\n",
    "    datas = df[['userid', featureName]].values\n",
    "    locFeatureMap = {}\n",
    "    for data in datas:\n",
    "        userid   = str(data[0])\n",
    "        province = str(data[1])\n",
    "        if featureName == 'age':\n",
    "            if province != 'nan': province = province[0:2]\n",
    "        ratio    = qualityMap[province] / (qualityMap[province] + nQualityMap[province])\n",
    "        locFeatureMap[userid] = ratio\n",
    "    return locFeatureMap\n",
    "\n",
    "# 地点转概率\n",
    "def getUserFeatureMapForTest(qualityMap, nQualityMap, locMap, featureName, fileName):\n",
    "    df = pd.read_csv(fileName)\n",
    "    datas = df[['userid', featureName]].values\n",
    "    locFeatureMap = {}\n",
    "    for data in datas:\n",
    "        userid   = str(data[0])\n",
    "        stats = str(data[1])\n",
    "        if (featureName == 'province'):\n",
    "            stats = str(locMap[stats])\n",
    "        elif featureName == 'gender':\n",
    "            if stats == '男': stats = 'male'\n",
    "            else: stats = 'female'\n",
    "        elif featureName == 'age':\n",
    "            if stats != 'nan': stats = stats[0:2]\n",
    "        if stats not in qualityMap:\n",
    "            ratio = 0\n",
    "        else: \n",
    "            ratio = qualityMap[stats] / (qualityMap[stats] + nQualityMap[stats])\n",
    "        locFeatureMap[userid] = ratio\n",
    "    return locFeatureMap\n",
    "\n",
    "def generateLocFeature(locFeatureMap, featureName, fileName = './data/train.csv'):\n",
    "        df = pd.read_csv(fileName)\n",
    "        userList = df['userid'].values\n",
    "        locFeature = []\n",
    "        for user in userList:\n",
    "            user = str(user)\n",
    "            locFeature.append(locFeatureMap[user])\n",
    "        ndf = pd.DataFrame({\n",
    "            featureName : locFeature\n",
    "        })\n",
    "        return ndf\n",
    "\n",
    "def localFeatureMap(userWithQ, locMap, featureName):\n",
    "    # for train\n",
    "    qualityMap, nQualityMap= statsWithFeatrueName(userWithQ, featureName, fileName = './data/userProfile_train_label.csv')\n",
    "    print(qualityMap)\n",
    "    locFeatureMap = getUserFeatureMap(qualityMap, nQualityMap, featureName, fileName = './data/userProfile_train_label.csv')\n",
    "    print([val for val in locFeatureMap.values()][0:10])\n",
    "    \n",
    "    #print(locFeatureMap)\n",
    "    # for test\n",
    "    locFeatureMapForTest = getUserFeatureMapForTest(qualityMap, nQualityMap, locMap, featureName, fileName = './data/test/userProfile_test.csv')\n",
    "    print([val for val in locFeatureMapForTest.values()][100:110])\n",
    "    return locFeatureMap, locFeatureMapForTest\n",
    "    \n",
    "featureName = 'gender'\n",
    "    \n",
    "locFeatureMap, locFeatureMapForTest = localFeatureMap(userWithQ, locMap, featureName)\n",
    "locFeature = generateLocFeature(locFeatureMap, featureName, './data/train.csv')\n",
    "# 训练集\n",
    "train = pd.read_csv('./data/train.csv')\n",
    "train = train.drop([featureName], axis = 1).join(locFeature)\n",
    "train.head(5)\n",
    "\n",
    "train.to_csv('./data/train.csv', index = False)\n",
    "print('persist done...')"
   ]
  },
  {
   "cell_type": "code",
   "execution_count": 122,
   "metadata": {
    "collapsed": false,
    "deletable": true,
    "editable": true
   },
   "outputs": [
    {
     "name": "stdout",
     "output_type": "stream",
     "text": [
      "defaultdict(<class 'int'>, {'male': 1221, 'female': 1674, 'nan': 3730})\n",
      "[0.1519533955269483, 0.19419953596287703, 0.17100840336134454, 0.1519533955269483, 0.1519533955269483, 0.1519533955269483, 0.1519533955269483, 0.1519533955269483, 0.1519533955269483, 0.1519533955269483]\n",
      "[0.19419953596287703, 0.17100840336134454, 0.19419953596287703, 0.19419953596287703, 0.17100840336134454, 0.17100840336134454, 0.19419953596287703, 0.19419953596287703, 0.19419953596287703, 0.19419953596287703]\n",
      "persist done...\n"
     ]
    }
   ],
   "source": [
    "# 测试集\n",
    "featureName = 'gender'\n",
    "\n",
    "locFeatureMap, locFeatureMapForTest = localFeatureMap(userWithQ, locMap, featureName)\n",
    "locFeature = generateLocFeature(locFeatureMapForTest, featureName, './data/test/test.csv')\n",
    "# 训练集\n",
    "test = pd.read_csv('./data/test/test.csv')\n",
    "test = test.join(locFeature)\n",
    "test.head(5)\n",
    "\n",
    "test.to_csv('./data/test/test.csv', index = False)\n",
    "print('persist done...')"
   ]
  },
  {
   "cell_type": "code",
   "execution_count": 13,
   "metadata": {
    "collapsed": false,
    "deletable": true,
    "editable": true
   },
   "outputs": [
    {
     "name": "stdout",
     "output_type": "stream",
     "text": [
      "{'70后': 3, 'nan': 0, '90后': 5, '00后': 1, '60后': 2, '80后': 4} {'男': 1, '女': 2, 'nan': 0}\n"
     ]
    }
   ],
   "source": [
    "# 导包\n",
    "from sklearn.preprocessing import OneHotEncoder\n",
    "enc = OneHotEncoder()\n",
    "#  训练集 实现热编码\n",
    "\n",
    "genderMap = {\n",
    "    'nan': 0,\n",
    "    '男': 1,\n",
    "    '女' : 2\n",
    "}\n",
    "ageMap    = {\n",
    "    'nan' : 0,\n",
    "    '00后' : 1,\n",
    "    '60后' : 2,\n",
    "    '70后' : 3,\n",
    "    '80后' : 4,\n",
    "    '90后' : 5\n",
    "}\n",
    "\n",
    "print(ageMap, genderMap)\n",
    "\n",
    "def getUserOneHotCode(genderMap, ageMap, fileName):\n",
    "    df = pd.read_csv(fileName)\n",
    "    datas = df[['userid', 'gender', 'age']].values\n",
    "    code = []\n",
    "    for data in datas:\n",
    "        user   = str(data[0])\n",
    "        gender = str(data[1])\n",
    "        age    = str(data[2])\n",
    "        code.append([genderMap[gender], ageMap[age]])\n",
    "    enc.fit(np.array(code))\n",
    "    oneCodeFeature = {}\n",
    "    for data in datas:\n",
    "        user   = str(data[0])\n",
    "        gender = str(data[1])\n",
    "        age    = str(data[2])\n",
    "        arra = np.array([genderMap[gender], ageMap[age]]).reshape(1, -1)\n",
    "        oneCodeFeature[user] = enc.transform(arra).toarray()\n",
    "    return oneCodeFeature\n",
    "oneCodeFeature = getUserOneHotCode(genderMap, ageMap, './data/userProfile_train.csv')\n",
    "oneCodeFeatureFortest = getUserOneHotCode(genderMap, ageMap, './data/test/userProfile_test.csv')"
   ]
  },
  {
   "cell_type": "code",
   "execution_count": 18,
   "metadata": {
    "collapsed": false,
    "deletable": true,
    "editable": true
   },
   "outputs": [
    {
     "name": "stdout",
     "output_type": "stream",
     "text": [
      "['111148448752', '114743980237', '112520565585', '111146646250', '110347671023', '111428513418', '110945872570', '111156285119', '112567065404', '111842019553']\n",
      "[array([[ 0.,  1.,  0.,  1.,  0.,  0.,  0.,  0.,  0.]]), array([[ 0.,  1.,  0.,  0.,  0.,  0.,  0.,  1.,  0.]]), array([[ 1.,  0.,  0.,  1.,  0.,  0.,  0.,  0.,  0.]]), array([[ 0.,  0.,  1.,  1.,  0.,  0.,  0.,  0.,  0.]]), array([[ 0.,  1.,  0.,  1.,  0.,  0.,  0.,  0.,  0.]]), array([[ 1.,  0.,  0.,  1.,  0.,  0.,  0.,  0.,  0.]]), array([[ 1.,  0.,  0.,  1.,  0.,  0.,  0.,  0.,  0.]]), array([[ 1.,  0.,  0.,  1.,  0.,  0.,  0.,  0.,  0.]]), array([[ 1.,  0.,  0.,  1.,  0.,  0.,  0.,  0.,  0.]]), array([[ 1.,  0.,  0.,  1.,  0.,  0.,  0.,  0.,  0.]])]\n",
      "40307\n"
     ]
    },
    {
     "data": {
      "text/html": [
       "<div>\n",
       "<table border=\"1\" class=\"dataframe\">\n",
       "  <thead>\n",
       "    <tr style=\"text-align: right;\">\n",
       "      <th></th>\n",
       "      <th>userid</th>\n",
       "      <th>total</th>\n",
       "      <th>ratio</th>\n",
       "      <th>label</th>\n",
       "      <th>province</th>\n",
       "      <th>gender</th>\n",
       "      <th>feature1</th>\n",
       "      <th>feature2</th>\n",
       "      <th>feature3</th>\n",
       "      <th>feature4</th>\n",
       "      <th>...</th>\n",
       "      <th>timeTrans9</th>\n",
       "      <th>oneHodeCode1</th>\n",
       "      <th>oneHodeCode2</th>\n",
       "      <th>oneHodeCode3</th>\n",
       "      <th>oneHodeCode4</th>\n",
       "      <th>oneHodeCode5</th>\n",
       "      <th>oneHodeCode6</th>\n",
       "      <th>oneHodeCode7</th>\n",
       "      <th>oneHodeCode8</th>\n",
       "      <th>oneHodeCode9</th>\n",
       "    </tr>\n",
       "  </thead>\n",
       "  <tbody>\n",
       "    <tr>\n",
       "      <th>0</th>\n",
       "      <td>114740494336</td>\n",
       "      <td>3</td>\n",
       "      <td>0.0</td>\n",
       "      <td>1</td>\n",
       "      <td>0.148240</td>\n",
       "      <td>0.151953</td>\n",
       "      <td>0.195652</td>\n",
       "      <td>0.108696</td>\n",
       "      <td>0.000000</td>\n",
       "      <td>0.000000</td>\n",
       "      <td>...</td>\n",
       "      <td>1.061110e+09</td>\n",
       "      <td>1.0</td>\n",
       "      <td>0.0</td>\n",
       "      <td>0.0</td>\n",
       "      <td>1.0</td>\n",
       "      <td>0.0</td>\n",
       "      <td>0.0</td>\n",
       "      <td>0.0</td>\n",
       "      <td>0.0</td>\n",
       "      <td>0.0</td>\n",
       "    </tr>\n",
       "    <tr>\n",
       "      <th>1</th>\n",
       "      <td>114803867648</td>\n",
       "      <td>1</td>\n",
       "      <td>0.0</td>\n",
       "      <td>0</td>\n",
       "      <td>0.115073</td>\n",
       "      <td>0.171008</td>\n",
       "      <td>0.022857</td>\n",
       "      <td>0.000000</td>\n",
       "      <td>0.000000</td>\n",
       "      <td>0.000000</td>\n",
       "      <td>...</td>\n",
       "      <td>1.061110e+09</td>\n",
       "      <td>0.0</td>\n",
       "      <td>1.0</td>\n",
       "      <td>0.0</td>\n",
       "      <td>0.0</td>\n",
       "      <td>0.0</td>\n",
       "      <td>0.0</td>\n",
       "      <td>0.0</td>\n",
       "      <td>1.0</td>\n",
       "      <td>0.0</td>\n",
       "    </tr>\n",
       "    <tr>\n",
       "      <th>2</th>\n",
       "      <td>111840919554</td>\n",
       "      <td>2</td>\n",
       "      <td>0.0</td>\n",
       "      <td>0</td>\n",
       "      <td>0.191423</td>\n",
       "      <td>0.151953</td>\n",
       "      <td>0.137931</td>\n",
       "      <td>0.000000</td>\n",
       "      <td>0.000000</td>\n",
       "      <td>0.000000</td>\n",
       "      <td>...</td>\n",
       "      <td>1.061110e+09</td>\n",
       "      <td>1.0</td>\n",
       "      <td>0.0</td>\n",
       "      <td>0.0</td>\n",
       "      <td>1.0</td>\n",
       "      <td>0.0</td>\n",
       "      <td>0.0</td>\n",
       "      <td>0.0</td>\n",
       "      <td>0.0</td>\n",
       "      <td>0.0</td>\n",
       "    </tr>\n",
       "    <tr>\n",
       "      <th>3</th>\n",
       "      <td>110305771527</td>\n",
       "      <td>1</td>\n",
       "      <td>1.0</td>\n",
       "      <td>1</td>\n",
       "      <td>0.182480</td>\n",
       "      <td>0.151953</td>\n",
       "      <td>0.100000</td>\n",
       "      <td>0.000000</td>\n",
       "      <td>0.000000</td>\n",
       "      <td>0.000000</td>\n",
       "      <td>...</td>\n",
       "      <td>1.061110e+09</td>\n",
       "      <td>1.0</td>\n",
       "      <td>0.0</td>\n",
       "      <td>0.0</td>\n",
       "      <td>1.0</td>\n",
       "      <td>0.0</td>\n",
       "      <td>0.0</td>\n",
       "      <td>0.0</td>\n",
       "      <td>0.0</td>\n",
       "      <td>0.0</td>\n",
       "    </tr>\n",
       "    <tr>\n",
       "      <th>4</th>\n",
       "      <td>110834417672</td>\n",
       "      <td>1</td>\n",
       "      <td>0.0</td>\n",
       "      <td>0</td>\n",
       "      <td>0.182480</td>\n",
       "      <td>0.151953</td>\n",
       "      <td>0.210526</td>\n",
       "      <td>0.026316</td>\n",
       "      <td>0.105263</td>\n",
       "      <td>0.052632</td>\n",
       "      <td>...</td>\n",
       "      <td>1.061110e+09</td>\n",
       "      <td>1.0</td>\n",
       "      <td>0.0</td>\n",
       "      <td>0.0</td>\n",
       "      <td>1.0</td>\n",
       "      <td>0.0</td>\n",
       "      <td>0.0</td>\n",
       "      <td>0.0</td>\n",
       "      <td>0.0</td>\n",
       "      <td>0.0</td>\n",
       "    </tr>\n",
       "  </tbody>\n",
       "</table>\n",
       "<p>5 rows × 186 columns</p>\n",
       "</div>"
      ],
      "text/plain": [
       "         userid  total  ratio  label  province    gender  feature1  feature2  \\\n",
       "0  114740494336      3    0.0      1  0.148240  0.151953  0.195652  0.108696   \n",
       "1  114803867648      1    0.0      0  0.115073  0.171008  0.022857  0.000000   \n",
       "2  111840919554      2    0.0      0  0.191423  0.151953  0.137931  0.000000   \n",
       "3  110305771527      1    1.0      1  0.182480  0.151953  0.100000  0.000000   \n",
       "4  110834417672      1    0.0      0  0.182480  0.151953  0.210526  0.026316   \n",
       "\n",
       "   feature3  feature4      ...         timeTrans9  oneHodeCode1  oneHodeCode2  \\\n",
       "0  0.000000  0.000000      ...       1.061110e+09           1.0           0.0   \n",
       "1  0.000000  0.000000      ...       1.061110e+09           0.0           1.0   \n",
       "2  0.000000  0.000000      ...       1.061110e+09           1.0           0.0   \n",
       "3  0.000000  0.000000      ...       1.061110e+09           1.0           0.0   \n",
       "4  0.105263  0.052632      ...       1.061110e+09           1.0           0.0   \n",
       "\n",
       "   oneHodeCode3  oneHodeCode4  oneHodeCode5  oneHodeCode6  oneHodeCode7  \\\n",
       "0           0.0           1.0           0.0           0.0           0.0   \n",
       "1           0.0           0.0           0.0           0.0           0.0   \n",
       "2           0.0           1.0           0.0           0.0           0.0   \n",
       "3           0.0           1.0           0.0           0.0           0.0   \n",
       "4           0.0           1.0           0.0           0.0           0.0   \n",
       "\n",
       "   oneHodeCode8  oneHodeCode9  \n",
       "0           0.0           0.0  \n",
       "1           1.0           0.0  \n",
       "2           0.0           0.0  \n",
       "3           0.0           0.0  \n",
       "4           0.0           0.0  \n",
       "\n",
       "[5 rows x 186 columns]"
      ]
     },
     "execution_count": 18,
     "metadata": {},
     "output_type": "execute_result"
    }
   ],
   "source": [
    "# 输出正确\n",
    "print([key for key in oneCodeFeature.keys()][0 : 10])\n",
    "print([oneCodeFeature[key] for key in oneCodeFeature.keys()][0 : 10])\n",
    "print(len(oneCodeFeature))\n",
    "\n",
    "def generateOneHotFeature(oneCodeFeatureMap, fileName):\n",
    "    df = pd.read_csv(fileName)\n",
    "    datas = df[['userid']].values\n",
    "    features = []\n",
    "    for data in datas:\n",
    "        user = str(data[0])\n",
    "        if user not in oneCodeFeatureMap:\n",
    "            print(user)\n",
    "        else:\n",
    "            features.append(oneCodeFeatureMap[user].reshape(-1))\n",
    "    colMap = {}\n",
    "    for i in range(9):\n",
    "        key = 'oneHodeCode' + str(i + 1)\n",
    "        colMap[key] = [feature[i] for feature in features]\n",
    "    ndf = pd.DataFrame(colMap)\n",
    "    return ndf\n",
    "oneHotFeature = generateOneHotFeature(oneCodeFeature, './data/train.csv')\n",
    "oneHotFeature.head(5)\n",
    "\n",
    "train = pd.read_csv('./data/train.csv')\n",
    "train = train.join(oneHotFeature)\n",
    "train.head(5)\n",
    "\n",
    "# 本地化\n",
    "#train.to_csv('./result/TR_20171231_09.csv', index = False)\n",
    "#print('persist done...')"
   ]
  },
  {
   "cell_type": "code",
   "execution_count": 19,
   "metadata": {
    "collapsed": false,
    "deletable": true,
    "editable": true
   },
   "outputs": [
    {
     "name": "stdout",
     "output_type": "stream",
     "text": [
      "['111195413697', '111803519459', '110946671973', '110103333868', '111145746758', '111844646152', '112532065703', '111153446850', '111143913519', '110147016725']\n",
      "[array([[ 1.,  0.,  0.,  1.,  0.,  0.,  0.,  0.,  0.]]), array([[ 1.,  0.,  0.,  1.,  0.,  0.,  0.,  0.,  0.]]), array([[ 0.,  1.,  0.,  1.,  0.,  0.,  0.,  0.,  0.]]), array([[ 1.,  0.,  0.,  1.,  0.,  0.,  0.,  0.,  0.]]), array([[ 0.,  1.,  0.,  1.,  0.,  0.,  0.,  0.,  0.]]), array([[ 1.,  0.,  0.,  1.,  0.,  0.,  0.,  0.,  0.]]), array([[ 1.,  0.,  0.,  0.,  0.,  0.,  0.,  1.,  0.]]), array([[ 1.,  0.,  0.,  1.,  0.,  0.,  0.,  0.,  0.]]), array([[ 1.,  0.,  0.,  1.,  0.,  0.,  0.,  0.,  0.]]), array([[ 1.,  0.,  0.,  0.,  0.,  0.,  0.,  0.,  1.]])]\n",
      "10076\n",
      "persist done...\n"
     ]
    }
   ],
   "source": [
    "# 测试集 oneHotCode\n",
    "\n",
    "print([key for key in oneCodeFeatureFortest.keys()][0 : 10])\n",
    "print([oneCodeFeatureFortest[key] for key in oneCodeFeatureFortest.keys()][0 : 10])\n",
    "print(len(oneCodeFeatureFortest))\n",
    "\n",
    "oneHotFeatureForTest = generateOneHotFeature(oneCodeFeatureFortest, './data/test/test.csv')\n",
    "oneHotFeatureForTest.head(5)\n",
    "\n",
    "test = pd.read_csv('./data/test/test.csv')\n",
    "test = test.join(oneHotFeatureForTest)\n",
    "test.head(10)\n",
    "\n",
    "test.to_csv('./result/TT_20171231_09.csv', index = False)\n",
    "print('persist done...')"
   ]
  }
 ],
 "metadata": {
  "kernelspec": {
   "display_name": "Python 3",
   "language": "python",
   "name": "python3"
  },
  "language_info": {
   "codemirror_mode": {
    "name": "ipython",
    "version": 3
   },
   "file_extension": ".py",
   "mimetype": "text/x-python",
   "name": "python",
   "nbconvert_exporter": "python",
   "pygments_lexer": "ipython3",
   "version": "3.5.2"
  }
 },
 "nbformat": 4,
 "nbformat_minor": 2
}
