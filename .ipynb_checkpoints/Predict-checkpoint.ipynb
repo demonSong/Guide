{
 "cells": [
  {
   "cell_type": "markdown",
   "metadata": {},
   "source": [
    "# 导包\n",
    "import pandas as pd\n",
    "import matplotlib.pyplot as plt"
   ]
  },
  {
   "cell_type": "code",
   "execution_count": 23,
   "metadata": {
    "collapsed": false
   },
   "outputs": [
    {
     "name": "stdout",
     "output_type": "stream",
     "text": [
      "         userid  orderid   orderTime  orderType city country continent\n",
      "0  100000000371  1000029  1503443585          0   东京      日本        亚洲\n",
      "1  100000001445  1000089  1478532275          0  新加坡     新加坡        亚洲\n",
      "2  100000001445  1000085  1491296016          0  西雅图      美国       北美洲\n",
      "3  100000001445  1000083  1478514442          0  新加坡     新加坡        亚洲\n",
      "4  100000001445  1000086  1478545148          0  新加坡     新加坡        亚洲\n"
     ]
    }
   ],
   "source": [
    "df = pd.read_csv('./data/test/orderHistory_test.csv')\n",
    "print(df.head(5))"
   ]
  },
  {
   "cell_type": "code",
   "execution_count": 24,
   "metadata": {
    "collapsed": false
   },
   "outputs": [
    {
     "name": "stdout",
     "output_type": "stream",
     "text": [
      "精品服务用户数：  400\n",
      "总用户数：  2686 , 精品服务数占比：  0.14892032762472077\n"
     ]
    }
   ],
   "source": [
    "# 统计购买精品服务的用户集合\n",
    "userAndType = df[['userid','orderType']].values\n",
    "\n",
    "userIdSetWithQualityService = set()  # 有精品服务的客户\n",
    "userIdSet = set()\n",
    "\n",
    "for line in userAndType:\n",
    "    if (line[1] == 1):\n",
    "        userIdSetWithQualityService.add(line[0])\n",
    "    userIdSet.add(line[0])\n",
    "\n",
    "    \n",
    "print('精品服务用户数： ' , len(userIdSetWithQualityService))\n",
    "print('总用户数： ', len(userIdSet), ', 精品服务数占比： ', len(userIdSetWithQualityService) / len(userIdSet))"
   ]
  },
  {
   "cell_type": "code",
   "execution_count": 25,
   "metadata": {
    "collapsed": false
   },
   "outputs": [
    {
     "name": "stdout",
     "output_type": "stream",
     "text": [
      "         userid\n",
      "0  100000000371\n",
      "1  100000001215\n",
      "2  100000001445\n",
      "3  100000001575\n",
      "4  100000001601\n"
     ]
    }
   ],
   "source": [
    "# 预测订单\n",
    "orderFutureTest = pd.read_csv('./data/test/orderFuture_test.csv')\n",
    "print(orderFutureTest.head(5))"
   ]
  },
  {
   "cell_type": "code",
   "execution_count": 50,
   "metadata": {
    "collapsed": false
   },
   "outputs": [],
   "source": [
    "import numpy as np\n",
    "\n",
    "userId = orderFutureTest[['userid']].values\n",
    "\n",
    "ans = []\n",
    "\n",
    "for data in userId:\n",
    "    type = 0\n",
    "    if data[0] in userIdSetWithQualityService:\n",
    "        type = 1\n",
    "    else:\n",
    "        pass\n",
    "    ans.append([data[0], type])\n",
    "\n",
    "# 本地化\n",
    "output = pd.DataFrame(np.array(ans), columns = ['userid', 'orderType'])\n",
    "output.to_csv('new.csv', index = False)"
   ]
  },
  {
   "cell_type": "code",
   "execution_count": null,
   "metadata": {
    "collapsed": true
   },
   "outputs": [],
   "source": []
  }
 ],
 "metadata": {
  "kernelspec": {
   "display_name": "Python 3",
   "language": "python",
   "name": "python3"
  },
  "language_info": {
   "codemirror_mode": {
    "name": "ipython",
    "version": 3
   },
   "file_extension": ".py",
   "mimetype": "text/x-python",
   "name": "python",
   "nbconvert_exporter": "python",
   "pygments_lexer": "ipython3",
   "version": "3.5.2"
  }
 },
 "nbformat": 4,
 "nbformat_minor": 2
}
